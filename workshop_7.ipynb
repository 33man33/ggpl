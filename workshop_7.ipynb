{
 "cells": [
  {
   "cell_type": "markdown",
   "metadata": {},
   "source": [
    "# Doors and windows\n",
    "\n",
    "\n",
    "#### It will be represented:\n",
    "* design of wooden doors;\n",
    "* modern window;\n",
    "* glass doors and windows.\n",
    "\n",
    "#### Variables:\n",
    "* *dx,dy,dz*: dimension of model, input from users;\n",
    "* *windowX*: distances on x-axis for window;\n",
    "* *windowY*: distances on y-axis for window;\n",
    "* *X*: distances on x-axis for door ;\n",
    "* *Y*: distances on y-axis for door;\n",
    "* *a binary matrix*: defining which cells are empty;\n",
    "* *color*: brown for wood and blue for glass.\n",
    "#### The starting models are:\n",
    "\n",
    "![img](model_finestra2.jpg)\n",
    "\n",
    "![img](model_door.jpg)\n",
    "\n",
    "\n"
   ]
  },
  {
   "cell_type": "code",
   "execution_count": null,
   "metadata": {
    "collapsed": true
   },
   "outputs": [],
   "source": [
    "from pyplasm import *\n",
    "from larlib import *\n",
    "\n",
    "\n",
    "windowX = [.04,.3,.04,.3,.04]\n",
    "windowY = [.02,.3,.04,.3,.02]\n",
    "occurWind = [[1, 1, 1, 1, 1],[1, 0, 1, 0, 1],[1, 1, 1, 1, 1],[1, 0, 1, 0, 1],[1, 1, 1, 1, 1]]\n",
    "\n",
    "\n",
    "Y = [.09, .18, .015, .15, .015, .15, .3, .15, .015, .15 ,.015, .15, .09]\n",
    "X = [.3, .2, .03, .5, .04, 1.2, .03, .2, .03, .4, .2]\n",
    "occurrencY = [[1, 1, 1, 1, 1, 1, 1, 1, 1, 1, 1, 1, 1],[1, 0, 0, 0, 0, 0, 1, 0, 0, 0, 0, 0, 1],[1, 0, 1, 1, 1, 1,1, 1, 1, 1, 1, 0, 1],[1, 0, 1, 0, 0, 0, 1, 0, 0, 0, 1, 0, 1],\n",
    "                 [1, 0, 1, 0, 1, 1, 1, 1, 1, 0, 1, 0, 1],[1, 0, 1, 0, 1, 0, 1, 0, 1, 0, 1, 0, 1],[1, 0, 1, 0, 1, 1, 1, 1, 1, 0, 1, 0, 1],[1, 0, 1, 0, 0, 0, 1, 0, 0, 0, 1, 0, 1],\n",
    "                 [1, 0, 1, 1, 1, 1, 1, 1, 1, 1, 1, 0, 1],[1, 0, 0, 0, 0, 0, 1, 0, 0, 0, 0, 0, 1],[1, 1, 1, 1, 1, 1, 1, 1, 1, 1, 1, 1, 1]]\n",
    "\n",
    "\n",
    "\"\"\"\n",
    "X = [.1,.5,.05,.5,.2,.5,.05,.5,.1]\n",
    "Y = [.2,1,.1,1,.2,1,.1,1,.2]\n",
    "occurrencY = [[1,1,1,1,1,1,1,1,1],\n",
    "              [1,0,1,0,1,0,1,0,1],\n",
    "              [1,1,1,1,1,1,1,1,1],\n",
    "              [1,0,1,0,1,0,1,0,1],\n",
    "              [1,1,1,1,1,1,1,1,1],\n",
    "              [1,0,1,0,1,0,1,0,1],\n",
    "              [1,1,1,1,1,1,1,1,1],\n",
    "              [1,0,1,0,1,0,1,0,1],\n",
    "              [1,1,1,1,1,1,1,1,1]]\n",
    "              \n",
    "\"\"\"\n",
    "\n",
    "BROWN = COLOR(Color4f([193/255., 154/255., 107/255., 1]))\n",
    "TRASPARENT = COLOR(Color4f([38/255.,226/255.,189/255.,1]))\n"
   ]
  },
  {
   "cell_type": "markdown",
   "metadata": {
    "collapsed": true
   },
   "source": [
    "# Support functions\n",
    "\n",
    "#### The support functions used:\n",
    "* *circle*: given a radius parameter, returns a function that, given an angle, returns the part of the circle;\n",
    "* *semiCircle*: given a radius parameter, returns a semi circle;\n",
    "* *semiCircle2*: variants of the semicircle.\n",
    "\n",
    "#### The parameters used:\n",
    "* *param r*: radius of the circle;\n",
    "* *param p*: angle of the circle;\n"
   ]
  },
  {
   "cell_type": "code",
   "execution_count": null,
   "metadata": {
    "collapsed": true
   },
   "outputs": [],
   "source": [
    "def circle(r):\n",
    "    def circle0(p):\n",
    "        alpha = p[0]\n",
    "        return [r*COS(alpha), r*SIN(alpha)]\n",
    "    return circle0\n",
    "\n",
    "\n",
    "def semiCircle(r):\n",
    "    def semiCircle(p):\n",
    "        alpha = p[0]\n",
    "        b = p[1]\n",
    "        a = [b*COS(alpha), b*SIN(alpha)]\n",
    "        return a\n",
    "    dom = PROD([INTERVALS(PI)(20),INTERVALS(r)(1)])\n",
    "    cerchio0 = MAP(semiCircle)(dom)\n",
    "    return cerchio0\n",
    "\n",
    "def semiCircle2(r):\n",
    "    def semiCircle(p):\n",
    "        alpha = p[0]\n",
    "        b = p[1]\n",
    "        a = [b*COS(alpha), b*SIN(alpha)]\n",
    "        return a\n",
    "    return semiCircle"
   ]
  },
  {
   "cell_type": "markdown",
   "metadata": {
    "collapsed": true
   },
   "source": [
    "# Window\n",
    "\n",
    "#### *ggpl_window* is a function that takes in input three parameters ( array ): \n",
    "* *X*: values of distances of the specific axis;\n",
    "* *Y*: values of distances of the specific axis;\n",
    "* *occurrency*: a matrix containing booleans that map which cell is empty and which cell is filled.\n",
    "\n",
    "#### The function returns an hpc model which represent a window, composed by:\n",
    "* *arc*: an arc of circumference;\n",
    "* *glass and handle*.\n"
   ]
  },
  {
   "cell_type": "code",
   "execution_count": null,
   "metadata": {
    "collapsed": true
   },
   "outputs": [],
   "source": [
    "def ggpl_window(X,Y,occurrency):\n",
    "    def window(dx,dy,dz):\n",
    "        arc = MAP(circle(dx/2.))(INTERVALS(1*PI)(30))\n",
    "        arc = OFFSET([0,0,.06])(PROD([Q(dy),arc]))\n",
    "        arc = T([1,3])([dx/2.,dz])(R([1,2])(PI/2)(arc))\n",
    "        arc = BROWN(arc)\n",
    "        \n",
    "        glass = R([2,3])(PI/2)(semiCircle(dx/2.))\n",
    "        glass = TRASPARENT( T([1,2,3])([dx/2.,dy/2,dz])(glass))\n",
    "        \n",
    "        glass_tot = TRASPARENT(T(2)(dy/2)(CUBOID([dx-0.04,(dy/4),dz-0.02])))\n",
    "        \n",
    "        handle = COLOR(BLACK)(CUBOID([.03,.03,.02]))\n",
    "        handle2 = T(3)([-.1])(handle)\n",
    "        handles = STRUCT([handle,handle2])\n",
    "        handle = T([1,2,3])([dx/2.- .1, dy/2 + .05, dz/2. + .04])(handles)\n",
    "        handle2 = T([1,2,3])([dx/2.+ .1, dy/2+ .05, dz/2. + .04])(handles)\n",
    "        \n",
    "        beam = BROWN(CUBOID([.04,.08,.3]))\n",
    "        beam3 = T([1,2,3])([(dx/2)-.03,dy/2 -.03,dz])(beam)\n",
    "        beam1 = T([1,2,3])([(dx/2)-.03,dy/2-.03,dz])(R([1,3])(PI/4)(beam))\n",
    "        beam2 = BROWN(T([1,2,3])([(dx/2)-.038,dy/2-.03,dz])(R([1,3])(-PI/4)(CUBOID([.04,.08,.36]))))\n",
    "        \n",
    "        ggpl_final(X,Y,occurrency, dx,dy,dz)\n",
    "        final = support_function(X,Y,occurrency)\n",
    "        final.append(BOX([dx,dz,dy]))\n",
    "        final_tot = STRUCT(final)\n",
    "        final_tot = BROWN(MAP([S1,S3,S2])(PROD([final_tot, Q(dy)])))\n",
    "        \n",
    "        #VIEW(STRUCT([final_tot,arc,beam3,beam2,beam1]))\n",
    "        return STRUCT([final_tot,arc,glass,handle,handle2,beam3,beam1,beam2,glass_tot])\n",
    "    return window"
   ]
  },
  {
   "cell_type": "markdown",
   "metadata": {},
   "source": [
    "# Representation\n",
    "\n",
    "#### The parameters for this representation: dx = .6 , dy = .2, dz = 1\n",
    "\n",
    "![img](sheletro_finestra.png)\n",
    "\n",
    "![img](finestra_fuori.png)\n",
    "\n",
    "![img](finestra_dentro.png)\n",
    "\n",
    "\n"
   ]
  },
  {
   "cell_type": "markdown",
   "metadata": {
    "collapsed": true
   },
   "source": [
    "# Door\n",
    "\n",
    "#### *ggpl_door* is a function that accepts three parameters:\n",
    "* *X*: values of distances of the spcecific axis ;\n",
    "* *Y*: values of distances of the spcecific axis;\n",
    "* *occurrency*: matrix of boolean;\n",
    "* *dx*: input from user and represent the dimension x axis;\n",
    "* *dy*: input from user and represent the dimension y axis;\n",
    "* *dz*: input from user and represent the dimension z axis;\n",
    "\n",
    "#### The function returns an hpc model which represents a simple door.\n",
    "\n",
    "\n"
   ]
  },
  {
   "cell_type": "code",
   "execution_count": null,
   "metadata": {
    "collapsed": true
   },
   "outputs": [],
   "source": [
    "def ggpl_door(X,Y,occurrency):\n",
    "    def door(dx,dy,dz):\n",
    "        \n",
    "        circ = JOIN(MAP(circle(dx/6.))(INTERVALS(2*PI)(30)))\n",
    "        circ = MAP([S1,S3,S2])(PROD([circ, Q(dy/4.)]))\n",
    "        circ = BROWN(T([1,2,3])([dx/2.,dy-dy/4.+0.01,dz/2.])(circ))\n",
    "        \n",
    "        handle = COLOR(BLACK)(CUBOID([.06,.06,.04]))\n",
    "        handle2 = COLOR(BLACK)(CUBOID([.06,.15,.04]))\n",
    "        handle = T([1,2,3])([dx/2, dy, dz/2. ])(handle)\n",
    "        handle2 = T([1,2,3])([dx/2+.06, dy+.06, dz/2.])(R([1,2])(PI/2)(handle2))\n",
    "        handles = STRUCT([handle,handle2])\n",
    "        \n",
    "        \n",
    "        beam = BROWN(CUBOID([dx/30,dy,dz+.2]))\n",
    "        beam1 = T(3)(.1)(R([1,3])(-PI/5.8)(beam))\n",
    "        beam2 = BROWN(T([1,3])([dx-.06,.04])(R([1,3])(PI/5.9)(beam)))\n",
    "        beam3 = BROWN(CUBOID([dz/35.,dy,dx]))\n",
    "        beam3 = T([1,3])([dx,dz/2.])(R([1,3])(PI/2)(beam3))\n",
    "\n",
    "        final = support_function(X,Y,occurrency)\n",
    "    \n",
    "        final.append(BOX([dx,dz,dy]))\n",
    "        final_tot = STRUCT(final)\n",
    "        final_tot = PROD([final_tot, Q(dy)])\n",
    "        final_tot = MAP([S2,S3,S1])(final_tot)\n",
    "        final_tot = S([1,2,3])([dx/SIZE([1])(final_tot)[0], dy/SIZE([2])(final_tot)[0], dz/SIZE([3])(final_tot)[0]]) (final_tot)\n",
    "        final_tot = BROWN(final_tot)\n",
    "        \n",
    "        glass = CUBOID([dx-0.1, dy/4., dz-0.2])\n",
    "        glass = T([1,2,3])([dx*0.04,dy/8., dz*0.04])(glass)\n",
    "        glass = TRASPARENT(glass)\n",
    "        \n",
    "        return STRUCT([final_tot, circ, glass,handles,beam1,beam2,beam3])\n",
    "    return door"
   ]
  },
  {
   "cell_type": "markdown",
   "metadata": {},
   "source": [
    "# Result\n",
    "\n",
    "#### The parameters for this representation: dx = 1.6 , dy = .6, dz = 3\n",
    "\n",
    "\n",
    "\n",
    "![img](porta1.png)"
   ]
  },
  {
   "cell_type": "markdown",
   "metadata": {
    "collapsed": true
   },
   "source": [
    "# Controller function\n",
    "\n",
    "#### *ggpl_final* is a support function, for the functions *ggpl_door* and *ggpl_windows*, that takes six parameters:\n",
    "* *X*: array of distances on X-axis;\n",
    "* *Y*: array of distances on Y-axis;\n",
    "* *occurrency*: matrix of occurrences boolean;\n",
    "* *dx*: desired dimension from user, x-axis;\n",
    "* *dy*: desired dimension from user, y-axis;\n",
    "* *dz*: desired dimension from user, z-axis.\n"
   ]
  },
  {
   "cell_type": "code",
   "execution_count": null,
   "metadata": {
    "collapsed": true
   },
   "outputs": [],
   "source": [
    "def support_function(X,Y,o):\n",
    "    f = []\n",
    "    for i in range(len(X)):\n",
    "        s = []\n",
    "        x_sum = sum(X[:i])\n",
    "        for j in range(len(Y)):\n",
    "            if(o[i][j] == 1):\n",
    "                s.append(Y[j])\n",
    "            else:\n",
    "                s.append(-Y[j])\n",
    "        f.append(PROD([ QUOTE([-x_sum, X[i]]), QUOTE(s)]))\n",
    "    return f\n",
    "\n",
    "\n",
    "def ggpl_final(X, Y, occurrency, dx, dy, dz):\n",
    "    vy = [0]*len(Y)\n",
    "    sx = sum(X)\n",
    "    sy = sum(Y)\n",
    "    for y in range(len(Y)):\n",
    "        update = 1\n",
    "        for x in range(len(X)):\n",
    "            if(occurrency[x][y] == 0):\n",
    "                update = 0\n",
    "        if(update==1):\n",
    "            sy = sy - Y[y]\n",
    "            sx = sx - X[y]\n",
    "            dx = dx - X[y]\n",
    "            dz = dz - Y[y]\n",
    "    for x in range(len(X)):\n",
    "        mx = 0\n",
    "        for y in range(len(Y)):\n",
    "            if(occurrency[x][y] == 0 and vy[y] == 0):\n",
    "                Y[y] = (dz * Y[y])/sy\n",
    "                vy[y] = 1\n",
    "                mx = 1\n",
    "            if(occurrency[x][y] == 0 and vy[y] == 1 and not mx):\n",
    "                mx = 1\n",
    "        if(mx):\n",
    "            X[x] = (dx * X[x])/sx\n",
    "\n",
    "\n"
   ]
  },
  {
   "cell_type": "markdown",
   "metadata": {
    "collapsed": true
   },
   "source": [
    "# Test and variants\n",
    "\n",
    "\n",
    "#### Initial tests conducted on the skeleton of the structure. Three different use cases have been initialized: from the classic door to a more complex door, as shown in the pictures:\n",
    "\n",
    "\n",
    "#### parameters for this rappresentation: dx = 1.8, dy = .4, dz = 3\n",
    "![img](porta2.png)"
   ]
  },
  {
   "cell_type": "code",
   "execution_count": null,
   "metadata": {
    "collapsed": true
   },
   "outputs": [],
   "source": [
    "#VIEW(STRUCT([final_tot,arc,beam3,beam2,beam1]))\n",
    "VIEW(arc)\n",
    "VIEW(ggpl_window(windowX,windowY,occurWind)(.6,.2,1))\n",
    "VIEW(ggpl_door(X, Y, occurrencY)(1.8, .4, 3))\n"
   ]
  }
 ],
 "metadata": {
  "anaconda-cloud": {},
  "kernelspec": {
   "display_name": "Python [default]",
   "language": "python",
   "name": "python2"
  },
  "language_info": {
   "codemirror_mode": {
    "name": "ipython",
    "version": 2
   },
   "file_extension": ".py",
   "mimetype": "text/x-python",
   "name": "python",
   "nbconvert_exporter": "python",
   "pygments_lexer": "ipython2",
   "version": "2.7.12"
  }
 },
 "nbformat": 4,
 "nbformat_minor": 1
}
