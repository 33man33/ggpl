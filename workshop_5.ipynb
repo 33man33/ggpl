{
 "cells": [
  {
   "cell_type": "markdown",
   "metadata": {},
   "source": [
    "# A class's constructor\n",
    "\n",
    "#### Implementation of a classroom study and of each of its components\n",
    "\n",
    "#### Function parameters for the implemented methods: \n",
    "* *dz,dy,dx* = dimension of the final structure(class), axis of z,y and x;\n",
    "* *deskx,desky,deskz* = dimension of the desk, axis of x,y and z;\n",
    "* *dist_desk, desk_distance* = distance of two or more desk: axis x and y;\n",
    "* *blackboard x,y,z* = dimension of the blackboard, axis of x,y and z; \n",
    "* *chair x,y,z*; \n",
    "* *chest x,y,z*;\n",
    "* *lib x,y,z*;\n",
    "* *r is radius of a cylinder for the knob*;\n",
    "\n",
    "\n",
    "\n"
   ]
  },
  {
   "cell_type": "code",
   "execution_count": null,
   "metadata": {
    "collapsed": true
   },
   "outputs": [],
   "source": [
    "from pyplasm import *\n",
    "\n",
    "r = .04\n",
    "\n",
    "#x,y,z of a single desk\n",
    "deskx = 1.4\n",
    "desky = 0.8\n",
    "deskz = 1.0\n",
    "    \n",
    "#desks distances\n",
    "desk_distance = 3\n",
    "dist_desk = 1.6\n",
    "\n",
    "#x,y,z of the blackboard\n",
    "blackboardx = 6\n",
    "blackboardy = 2\n",
    "blackboardz = .1\n",
    "\n",
    "chairx =1\n",
    "chairy =1\n",
    "chairz =1\n",
    "\n",
    "chestx =.3\n",
    "chesty =.3\n",
    "chestz =.3\n",
    "\n",
    "libx =2\n",
    "liby=2\n",
    "libz =2"
   ]
  },
  {
   "cell_type": "markdown",
   "metadata": {},
   "source": [
    "# Chair, desk, trash and blackboard\n",
    "\n",
    "#### Functions description: \n",
    "* *creator chair(ggpl_chair)*: generates a single chair, with function *CUBOID* and *CYLINDER* for the legs,sit and back components;\n",
    "* *creator trash(ggpl_trash)*: generates a single trash with the function *MKPOL*;\n",
    "* *creator blackboard(ggpl_blackboard)*: generates a single blackboard;\n",
    "* *creator desk(ggpl_desk)*: generates a single desk;\n",
    "\n",
    "#### These functions take dx,dy,dz as parametric parameters \n",
    "\n",
    "\n"
   ]
  },
  {
   "cell_type": "code",
   "execution_count": null,
   "metadata": {
    "collapsed": true
   },
   "outputs": [],
   "source": [
    "def ggpl_trash(dx,dy,dz):\n",
    "    verts = ([0,0,0],[dx,0,0],[0,dy,0],[dx,dy,0],[-.05,-.05,dz],[dx+.05,-.05,dz],[-.05,dy+.05,dz],[dx+.05,dy+.05,dz])\n",
    "    cells = ([1,2,3,4],[1,3,5,7],[1,2,5,6],[3,4,7,8],[2,4,6,8],[3,7],[4,8])\n",
    "    pols = None\n",
    "    trash = COLOR(WHITE)(OFFSET([.05,.05,.05])(MKPOL([verts,cells,pols])))\n",
    "    return trash\n",
    "\n",
    "\n",
    "def ggpl_blackboard(dx,dy,dz):\n",
    "    blackboard_form = CUBOID([dx,dy,dz])\n",
    "    bbd = OFFSET([.1,.1,.1])(SKEL_1(blackboard_form))\n",
    "    blackboard = COLOR(BLACK)(blackboard_form)\n",
    "    #VIEW( STRUCT([blackboard,bbd]) )\n",
    "    return  STRUCT([blackboard,bbd])\n",
    "\n",
    "\n",
    "def ggpl_chair(dx,dy,dz):\n",
    "    leg_front = COLOR(GRAY) (CYLINDER([r,dz/3])(100))\n",
    "    leg_back = COLOR(GRAY) (CYLINDER([r,(dz*3)/4])(100))\n",
    "    sit = COLOR((RED)) (CUBOID([dx+(r*2),dy+(r*2),.05]))\n",
    "    back = COLOR(RED) (CUBOID([.05,dy+(r*2),dz/4]))\n",
    "    leg_front1 = T(1)(dx)(leg_front)\n",
    "    leg_front2 = T([1,2])([dx,dy])(leg_front)\n",
    "    leg_back2 = T(2)(dy)(leg_back)\n",
    "    sit = T([1,2,3])([-r,-r,dz/3])(sit)\n",
    "    back = T([1,2,3])([-r,-r,(dz*3)/4])(back)\n",
    "    chair_complete = STRUCT([leg_front1,leg_front2,leg_back,leg_back2,sit,back])\n",
    "    #VIEW(chair_complete)\n",
    "    return  chair_complete\n",
    "\n",
    "\n",
    "def ggpl_desk(dx,dy,dz):\n",
    "    leg_table = CYLINDER([r,dz])(100)\n",
    "    leg_table2 = T(1)(dx - .01)(leg_table)\n",
    "    leg_table3 = T([1,2,3])([0,dy - .01,0])(leg_table)\n",
    "    leg_table4 = T([1,2,3])([dx-.01,dy-.01,0])(leg_table) \n",
    "    desk = STRUCT([leg_table,leg_table2,leg_table3,leg_table4]) \n",
    "    plane = COLOR(YELLOW) (CUBOID([ 2*r+dx,2*r+dy,.08]))\n",
    "    desk = STRUCT([desk,T([1,2,3])([-r,-r,dz]),plane])\n",
    "    under_plane = COLOR(YELLOW) (CUBOID([dx+(r*2),dy+(r*2),.04]))\n",
    "    desk = STRUCT([desk,T([1,2,3])([-r,-r,(dz*5)/7]),under_plane])\n",
    "    #VIEW(desk)\n",
    "    return  desk"
   ]
  },
  {
   "cell_type": "markdown",
   "metadata": {},
   "source": [
    "# First test \n",
    "\n",
    "#### Output of *ggpl_chair*, *ggpl_desk*, *ggpl_trash*, *ggpl_blackboard* .\n",
    "\n",
    "![img](chair.png)\n",
    "\n",
    "![img](desk.png)\n",
    "\n",
    "![img](trash.png)\n",
    "\n",
    "![img](blackboard.png)\n",
    "\n"
   ]
  },
  {
   "cell_type": "markdown",
   "metadata": {},
   "source": [
    "# Library, closet and prof-desk\n",
    "\n",
    "#### Functions description: \n",
    "* *creator library(ggpl_library)*: generates a single library, with function *CUBOID* and *ROTATE, TRASLATE*;\n",
    "* *creator closet(ggpl_closet)*: generates a single closet, with function *SPHERE* for the knob;\n",
    "* *creator prof_desk(ggpl_prof_desk)*: generates a single prof-desk with drawer.\n",
    "\n",
    "#### These functions take dx,dy,dz as parametric parameters "
   ]
  },
  {
   "cell_type": "code",
   "execution_count": null,
   "metadata": {
    "collapsed": true
   },
   "outputs": [],
   "source": [
    "def ggpl_library(dx,dy,dz):\n",
    "    base_down = COLOR(RED) (CUBOID([dx,dy,.1]))\n",
    "    base_up = (T(3)(dz - .1)(base_down))\n",
    "    bord1 = COLOR(RED) (CUBOID([dx,.1,dz]))\n",
    "    bord2 = R([1,2])(PI/2)(bord1)\n",
    "    bord3 = T(1)(dx)(bord2) \n",
    "    set1 = (T(1)(dx/2)(bord2)) \n",
    "    set2=  (T(3)(dz/4.)(base_down))\n",
    "    set3 = (T(3)(-dz/4.)(base_up))\n",
    "    set4 = (T(3)(dz/2.)(base_down))\n",
    "    library_complete = STRUCT([base_down,base_up,bord1,bord2,bord3,set1,set2,set3,set4])\n",
    "    return library_complete\n",
    "\n",
    "\n",
    "def ggpl_closet(dx, dy, dz):  \n",
    "    build = COLOR(RED)(T([1])([dx*.025]) (CUBOID([dx-.06,dy-.06, dz-.02])))\n",
    "    outline1 = COLOR(RED)(CUBOID([dx/30., dy, dz]))\n",
    "    outline2 = T([1])([dx*.975])(COLOR(RED)(CUBOID([dx/30., dy, dz])))  \n",
    "    door1 = T([1,2,3])([dx/30., dy-.06, dz*.01])(COLOR(WHITE)(CUBOID([dx*.47, dy*.025, dz-.01])))\n",
    "    door2 =  T([1])( [dx/30.+SIZE([1])(door1)[0]-dx*.02] )(door1) \n",
    "    knob = COLOR(RED)(JOIN(SKEL_1(SPHERE(.02)([30,30]))))\n",
    "    knob1 = T([1,2,3])([dx*.45, dy-.01, dz*.5])(knob)\n",
    "    knob2 = T([1,2,3])([dx*.60, dy-.01, dz*.5])(knob) \n",
    "    closet = []\n",
    "    closet.append(build)\n",
    "    closet.append(knob1)\n",
    "    closet.append(knob2)\n",
    "    closet.append(door1)\n",
    "    closet.append(door2)\n",
    "    closet.append(outline1)\n",
    "    closet.append(outline2)\n",
    "    return STRUCT(closet)\n",
    "\n",
    "\n",
    "def ggpl_prof_desk(dx,dy,dz):\n",
    "    r = .04\n",
    "    desk = COLOR(YELLOW) (STRUCT([T(3)(dz),CUBOID([dx+.05,dy+.05,.12])]))\n",
    "    leg = STRUCT([T([1,2])([r,r]),CYLINDER([r,dz])(100)])\n",
    "    legs = COLOR(BLACK) (STRUCT([leg, T(1)(dx-(r)),leg, T(2)(dy-(r)), leg, T(1)(-dx+r),leg]))  \n",
    "    drawer = COLOR(GREEN) (STRUCT([T([1,2,3])([r,r,dz-(dz/5.)]),CUBOID([dx/2.,dy/2.,dz/5.])]))\n",
    "    knob = COLOR(BLACK) (JOIN(SKEL_1(STRUCT([T([1,2,3])([dx/4.,r,dz-(dz/8.)]),SPHERE(r)([30,30])]))))       \n",
    "    bord1 = COLOR(YELLOW) (STRUCT([T([2,3])([dy-r,dz/1.7]),CUBOID([dx,r,dz/2.])]))\n",
    "    bord2 = COLOR(YELLOW) (STRUCT([T(3)(dz/1.7),CUBOID([r,dy,dz/2.])]))\n",
    "    bord3 = COLOR(YELLOW) (STRUCT([T([1,3])([dx-r,dz/1.7]),CUBOID([r,dy,dz/2.])])) \n",
    "    borders = STRUCT([bord1,bord2,bord3])     \n",
    "    desk_complete = STRUCT([legs,desk,drawer,knob,borders]) \n",
    "    return desk_complete\n"
   ]
  },
  {
   "cell_type": "markdown",
   "metadata": {},
   "source": [
    "# Test\n",
    "\n",
    "![img](library.png)\n",
    "\n",
    "![img](closet.png)\n",
    "\n",
    "![img](prof_desk.png)"
   ]
  },
  {
   "cell_type": "markdown",
   "metadata": {},
   "source": [
    "# Class\n",
    "\n",
    "#### *ggpl_class* is a function that has the task of building a class of study starting from the previous functions.\n",
    "\n",
    " "
   ]
  },
  {
   "cell_type": "code",
   "execution_count": null,
   "metadata": {
    "collapsed": true
   },
   "outputs": [],
   "source": [
    "def ggpl_desk_chair(dx,dy,dz):\n",
    "    desk = T(2)(0.2)(ggpl_desk(dx,dy,dz-.3))\n",
    "    chair = R([1,2])(PI/2)(ggpl_chair((dx/3),(dy/2),dz))\n",
    "    desk_chair = STRUCT([desk,T(1)(dx*3/4+.2)(chair),T(1)(dx/2 -.2)(chair)])\n",
    "    #VIEW(desk_chair)\n",
    "    return  desk_chair\n",
    "\n",
    "def ggpl_class(dx,dy,dz):\n",
    "    clos = ggpl_closet(1.5,1.5,3)\n",
    "    lib = T(1)(dx/1.2)(ggpl_library(1.5,1.5,3))\n",
    "    prof_desk = T([1,2])([dx/2,dy/1.15])(R([1,2])(PI)(ggpl_prof_desk(1.6,1.1,1)))\n",
    "    trash = T([1,2])([dx-.3,dy-.3])(ggpl_trash(.2,.2,.3))\n",
    "    desk_chair = ggpl_desk_chair(deskx,desky,deskz)\n",
    "    line = T(1)(desk_distance)(desk_chair)\n",
    "    misure = deskx+dist_desk+desk_distance  \n",
    "    while dx-dist_desk > misure + deskx :\n",
    "        line = STRUCT([line,T(1)(misure),desk_chair])\n",
    "        misure += dist_desk+deskx  \n",
    "    room = T(2)(desk_distance)(line)\n",
    "    misure2 = dist_desk + desky + desk_distance\n",
    "    while dy-dist_desk > misure2 + desky :\n",
    "        room = STRUCT([room,T(2)(misure2),line])\n",
    "        misure2 += dist_desk+desky \n",
    "    box = SKEL_1(CUBOID([dx,dy,dz]))\n",
    "    blackboard = T([1,2,3])([dx/2-(blackboardx/2),dy,dz/2.5]) ( R([2,3])(PI/2)((ggpl_blackboard(blackboardx,blackboardy,blackboardz)) ))    \n",
    "    return STRUCT([room,blackboard,box,clos,lib,prof_desk,trash])\n",
    "\n",
    "\"\"\"\n",
    "VIEW(ggpl_trash(.3,.3,.3))\n",
    "VIEW(ggpl_blackboard(3,3,1))\n",
    "VIEW(ggpl_closet(1.5,1.5,3))\n",
    "VIEW(chair_complete)\n",
    "VIEW(desk)\n",
    "VIEW(desk_chair)\n",
    "VIEW(ggpl_library(1.5,1.5,3))\n",
    "VIEW(ggpl_prof_desk(1,1,1))\n",
    "VIEW(ggpl_class(14, 10, 1.5))\n",
    "\"\"\""
   ]
  },
  {
   "cell_type": "markdown",
   "metadata": {
    "collapsed": true
   },
   "source": [
    "# Final test \n",
    "\n",
    "![img](class1.png)\n",
    "\n",
    "![img](class2.png)"
   ]
  },
  {
   "cell_type": "code",
   "execution_count": null,
   "metadata": {
    "collapsed": true
   },
   "outputs": [],
   "source": []
  }
 ],
 "metadata": {
  "anaconda-cloud": {},
  "kernelspec": {
   "display_name": "Python [default]",
   "language": "python",
   "name": "python2"
  },
  "language_info": {
   "codemirror_mode": {
    "name": "ipython",
    "version": 2
   },
   "file_extension": ".py",
   "mimetype": "text/x-python",
   "name": "python",
   "nbconvert_exporter": "python",
   "pygments_lexer": "ipython2",
   "version": "2.7.12"
  }
 },
 "nbformat": 4,
 "nbformat_minor": 1
}
