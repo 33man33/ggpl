{
 "cells": [
  {
   "cell_type": "markdown",
   "metadata": {},
   "source": [
    "# Models and Nomenclature\n",
    "\n",
    "![img](mod_scale.jpg)\n",
    "\n",
    "\n",
    "#### Function parameters for the implemented methods: \n",
    "* *dz* = height of flight :dimension of the structure, axis of z;\n",
    "* *dy* = lenght of flight :axis y;\n",
    "* *dx* = dimension of the structure, axis of x;\n",
    "* *stepNumber* = number of steps of the stair;\n",
    "* *tread* = depth of step;\n",
    "* *riser* = height of step; \n",
    "* *stepwidth*; \n",
    "\n",
    "#### Functions description: \n",
    "* *creatorstep*: generates a single step. A step consists of a base and ans axis;\n",
    "* *creator_stepSimple*: generates a list of models of steps. Every step is made of cubes, through the simple function *CUBOID*.\n",
    "\n",
    "### Matematical formulas and consequences:  \n",
    "    number of steps = part of int of dz/riser\n",
    "    \n",
    "    2*riser tread= 0.63 (Nicolas-Francois Blondel \n",
    "    \n",
    "    riser/tread = dz/dy\n",
    "    \n",
    "    riser = dz/n and tread = dy/n"
   ]
  },
  {
   "cell_type": "code",
   "execution_count": null,
   "metadata": {
    "collapsed": true
   },
   "outputs": [],
   "source": [
    "from pyplasm import *\n",
    "\n",
    "pillar = COLOR(BROWN)(T([1,2])([-2,1.4])(CUBOID([4.4,2.05,4*5.5])))\n",
    "magic = (-0.38,-4.78,3.08)\n",
    "\n",
    "def creatorStep(tread_prov,widt_prov,riser_prov,height_axis):\n",
    "    step = CUBOID([tread_prov,widt_prov,riser_prov])\n",
    "    step = STRUCT([T(3)(height_axis),step])\n",
    "    base = CUBOID([tread_prov-tread_prov/8,riser_prov,height_axis])\n",
    "    base = STRUCT([T(1)(tread_prov/8),T(2)(widt_prov/2-riser_prov/2),base])\n",
    "    axis = CUBOID([riser_prov,riser_prov,height_axis+riser_prov])\n",
    "    axis = STRUCT([T(1)(tread_prov),T(2)(widt_prov/2-riser_prov/2),axis])\n",
    "    step = STRUCT([step,base,axis])\n",
    "    return step\n",
    "\n",
    "step_test = creatorStep(0.3,0.6,0.1,.1)\n",
    "#VIEW(step_test)\n",
    "\n",
    "def creator_stepSimple(stepNumber, tread, riser, stepWidth):\n",
    "    steps = []\n",
    "    verts =[[tread,0],[tread,riser*2],[tread*2,riser*2],[tread*2,riser] ]\n",
    "    cells =[[1,2,3,4] ]\n",
    "    step2d = MKPOL([verts,cells,None])\n",
    "    firstStep = CUBOID([tread,riser,stepWidth])\n",
    "    steps.append(firstStep)\n",
    "    for i in range(int(stepNumber-1)):\n",
    "        steps.append(T([1,2])([(tread*i),riser*i])(PROD([step2d,Q(stepWidth)])))\n",
    "    return steps\n",
    "\n",
    "b = creator_stepSimple(1,0.5,0.2,.8)\n",
    "a = creator_stepSimple(10,0.5,0.2,.8)\n",
    "steps_test = MAP([S1,S3,S2])(STRUCT(a))\n",
    "#VIEW( MAP([S1,S3,S2])(STRUCT(b)))\n",
    "VIEW(STRUCT([steps_test]))\n"
   ]
  },
  {
   "cell_type": "markdown",
   "metadata": {},
   "source": [
    "# First test and representation\n",
    "\n",
    "![img](stair.png)\n",
    "\n",
    "\n",
    "#### *ggpl_stairCase* is a function that takes three parameters: dx,dy,dz (already addressed in \"Models and Nomenclature\"). The functions exploits the mathematical formulas and produces opportunely traslated and rotated (T(),R()) HPC models, representing the stairs."
   ]
  },
  {
   "cell_type": "code",
   "execution_count": null,
   "metadata": {
    "collapsed": true
   },
   "outputs": [],
   "source": [
    "def ggpl_stairCase(dx, dy, dz):\n",
    "    riser = 0.17\n",
    "    tread = 0.35\n",
    "    number_step = (int)(dz/(riser*3))\n",
    "    platformX = dx/3.\n",
    "    platformY = dy-tread*(number_step)\n",
    "    stairs = creator_stepSimple(number_step,tread,riser,platformX)\n",
    "    platform = CUBOID([platformY,riser,platformX+.01])\n",
    "    stairs.append(T([1,2])([tread*number_step,riser*(number_step-1)])(platform))\n",
    "    stair_two = creator_stepSimple(number_step,tread,riser,platformY)\n",
    "    stair_two = R([1,3])(PI/2)(STRUCT(stair_two))\n",
    "    stair_two = T([1,2,3])([dy, riser*(number_step-1),platformX-tread])(stair_two)\n",
    "    stairs.append(stair_two)\n",
    "    stairs.append(T([1,2,3])([tread*number_step,2*riser*(number_step-1),tread*(-1+number_step+platformX/tread)])(platform))\n",
    "    stair_three = creator_stepSimple(number_step,tread,riser,platformX)\n",
    "    stair_three = R([1,3])(PI)(STRUCT(stair_three))\n",
    "    stair_three = T([1,2,3])([tread*number_step,2*riser*(number_step-1),((platformX*2)+tread*(number_step-1))])(stair_three)\n",
    "    stairs.append(stair_three)\n",
    "    final_stairs = MAP([S1,S3,S2])(STRUCT(stairs))\n",
    "    return final_stairs"
   ]
  },
  {
   "cell_type": "markdown",
   "metadata": {},
   "source": [
    "# Ultimate test and Representations\n",
    "\n",
    "The algorithm has been executed with arguments dx,dy,dz=4. The following images are the outcome for this kind of input.\n",
    "\n",
    "![img](stairs1.png)\n",
    "![img](stairs2.png)\n",
    "\n",
    "\n",
    "In the image here there is shown the combination of five stairs with three flights.\n",
    "\n",
    "![img](staironstair.png)"
   ]
  },
  {
   "cell_type": "code",
   "execution_count": null,
   "metadata": {
    "collapsed": false
   },
   "outputs": [],
   "source": [
    "stairs_test1 = ggpl_stairCase(4,4,4)\n",
    "box = BOX([1,2,3])(CUBOID([0.1,.1,4]))\n",
    "box = MAP([S3,S1,S2])(STRUCT([box]))\n",
    "\n",
    "test_prova1 = T([1,2,3])([magic[0],magic[1],magic[2]])(stairs_test1)\n",
    "test_prova1r = R([1,2])(PI)(test_prova1)\n",
    "\n",
    "test_prova2 = T(3)(magic[2]*2)(stairs_test1)\n",
    "\n",
    "test_prova3 = T([1,2,3])([magic[0],magic[1],magic[2]*3])(stairs_test1)\n",
    "test_prova3r = R([1,2])(PI)(test_prova3)\n",
    "\n",
    "test_prova4 = T(3)(magic[2]*4)(stairs_test1)\n",
    "\n",
    "test_prova5 = T([1,2,3])([magic[0],magic[1],magic[2]*5])(stairs_test1)\n",
    "test_prova5r = R([1,2])(PI)(test_prova5)\n",
    "\n",
    "test_prova6 = T([3])([magic[2]*6])(stairs_test1)\n",
    "\n",
    "wallp =T([2])([-.2])(CUBOID([5.2,0.2,4]))\n",
    "wall = T([2])([-.2])(CUBOID([4,0.2,4]))\n",
    "wall1tr = R([1,2])(PI/2)(T([1,2])([-.2,-4])(wallp))\n",
    "wall2tr = T(2)(5)(wall)\n",
    "\n",
    "#handrail = (COLOR(RED)) (MKPOL([ [ [0,0.1,1.1],[0,0.2,1.2], [2,0.1,1.1], [2,0.2,1.2] ],[ [1,2,3,4] ], 1 ] ))\n",
    "handrailv = (COLOR(RED)) ( (T([1,2,3])([0,1.4,.5])(CUBOID([3,.1,.1])) ))\n",
    "handrailo = (COLOR(RED)) ( (T([1,2,3])([0,1.4,.5])(CUBOID([.1,2.1,.1])) ))\n",
    "handrailp = (COLOR(RED)) ( (T([1,2,3])([0,1.4,.5])(CUBOID([2.6,.1,.1])) ))\n",
    "\n",
    "handrail0 = R([1,3])(PI/6)(handrailp)\n",
    "\n",
    "handrail1 = R([1,3])(PI/6)(handrailv)\n",
    "handrail2 = R([2,3])(PI/6)(T([1,2,3])([2.25,.8,.428])(handrailo))\n",
    "handrail3 = R([1,3])(-PI/3) (T([1,2,3])([-3.36,1.78,1.75])(handrail0))\n",
    "\n",
    "pillar1handrail = T([1,2])([-.28,1.4])(COLOR(RED)(CUBOID([.12,.12,.5])))\n",
    "pillar2handrail = T([1,2])([2.25,1.4])(COLOR(RED)(CUBOID([.12,.12,2])))\n",
    "pillar3handrail = T([1,2])([2.25,3.2])(COLOR(RED)(CUBOID([.12,.12,3.05])))\n",
    "pillar4handrail = T([1,2])([0.05,3.15])(COLOR(RED)(CUBOID([.12,.12,4.3])))\n",
    "\n",
    "VIEW(STRUCT([stairs_test1,wall,wall1tr,wall2tr,handrail1,handrail2,handrail3,pillar1handrail,pillar2handrail,pillar3handrail,pillar4handrail]))\n",
    "VIEW(STRUCT([stairs_test1,test_prova1r,test_prova2,test_prova3r,test_prova4,test_prova5r,test_prova6,pillar]))"
   ]
  }
 ],
 "metadata": {
  "anaconda-cloud": {},
  "kernelspec": {
   "display_name": "Python [default]",
   "language": "python",
   "name": "python2"
  },
  "language_info": {
   "codemirror_mode": {
    "name": "ipython",
    "version": 2
   },
   "file_extension": ".py",
   "mimetype": "text/x-python",
   "name": "python",
   "nbconvert_exporter": "python",
   "pygments_lexer": "ipython2",
   "version": "2.7.12"
  }
 },
 "nbformat": 4,
 "nbformat_minor": 1
}
