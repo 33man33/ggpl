{
 "cells": [
  {
   "cell_type": "markdown",
   "metadata": {
    "collapsed": true
   },
   "source": [
    "## Parametri\n",
    "\n",
    "#### lista di elementi bx, bz dimensione delle travi, px e py dimensione dei pilastri e collezioni dy1,dy2.. hz1,hz2 rispettivamente le distane fra pilastri e l'alteza dell'interpiani. Parametri che con rispettivi cicli for vengono acquisiti e istanziati. Oltre ciò, è stata definita una funzione ggplBoneStrutture che prende in input un file csv di vettori , e output invece di un hpc verranno istanziati i rispettivi parametri. Il compito della \"costruzione\" dello scheletro della struttura in cemento armato sarà implementata in un'altra funzione. I modelli presi in considerazione saranno: \n",
    "\n",
    "![img](modello1.jpeg)\n",
    "![img](modello2.gif)"
   ]
  },
  {
   "cell_type": "code",
   "execution_count": null,
   "metadata": {
    "collapsed": true
   },
   "outputs": [],
   "source": [
    "from pyplasm import *\n",
    "import csv\n",
    "\n",
    "bx = by = .6\t\n",
    "bz = .2\n",
    "px = py = .2\t\t\t\n",
    "dy = 3.4\n",
    "dy2 = 4.5\t\t\n",
    "hz = 2.8\n",
    "hz1 = 2.0\n",
    "\n",
    "dim_beam = (bx,bz)\n",
    "dim_pillar=(px,py)\n",
    "dis_pillars = [dy,dy2]\n",
    "heights_interstory = [hz,hz1]\n",
    "\n",
    "def ggpl_bone_structure(file_name):\n",
    "\twith open(file_name,'rb'):\n",
    "\t\treader = csv.reader(f)\n",
    "\t\tfor r in reader:\n",
    "\t\t\tprint r"
   ]
  },
  {
   "cell_type": "markdown",
   "metadata": {},
   "source": [
    "# Struttura principale e i rispettivi componenti\n",
    "\n",
    "#### funzione che preso i parametri istanziati precedentemente crea la prima struttura. La base dove poggiano i pilastri è grande rispettivamente 3volte la grandezza del pilastro(cosicchè i pilastri verranno posizionati al centro esato della base), grazie al prodotto cartesiano operazioni quindi di QUOTE E PROD verranno istaziate 6 basi nell'asse delle x e 4 basi nell'asse delle y con altezza 0.2 e il rispettivo prodotto cartesiano. Tale oggetto hpc verrà chiamato base.\n",
    "#### Stesso discorso vale anche per i pilastri, in più verranno distanziati (ogni pilastro) con la dimensione dy parametrica, acquisita precedentemente, e la rispettiva alteza data da hz.\n",
    "#### Le travi le ho suddivise in: travi asse x e travi asse y. Queste sono state create nello stesso modo visto precedentemente, l'unica differenza chiaramente è nel \"posizionamento e misure\".\n",
    "#### La funione di ritorno inece di un singolo oggetto hpc è una lista con gli elementi precedenti, scelta di progetto più elastica per risolvere in futuro problemi che richiedono solo una parte della struttura intera."
   ]
  },
  {
   "cell_type": "code",
   "execution_count": null,
   "metadata": {
    "collapsed": true
   },
   "outputs": [],
   "source": [
    "\n",
    "def struttura(dim_beam,dim_pillar,dis_pillars,heights_interstory):\n",
    "\t\n",
    "\tx_base = QUOTE([px*3, - dis_pillars[0]] * 6)   \n",
    "\ty_base = QUOTE([py*3, - dis_pillars[0]] * 4)  \n",
    "\n",
    "\tbase = INSR(PROD)([x_base,y_base,Q(.2)]) \n",
    "\t\n",
    "\tx_pilastri = QUOTE([-dim_pillar[0], dim_pillar[0], -dim_pillar[0], - dis_pillars[0] ] * 6)\t\n",
    "\ty_pilastri = QUOTE([-dim_pillar[0], dim_pillar[0], -dim_pillar[0], - dis_pillars[0] ] * 4)\t\n",
    "\tpilastri = INSR(PROD)([x_pilastri,y_pilastri,QUOTE([-.2,heights_interstory[0]]*5 )])   \n",
    "\t\n",
    "\tx_travi_assey = QUOTE([dim_beam[0], -(dis_pillars[0])] *6)\n",
    "\ty_travi_assey = QUOTE([4*(dis_pillars[0]) -dim_beam[0]])\n",
    "\ttravi_assey = INSR(PROD)([x_travi_assey,y_travi_assey,QUOTE([-dim_beam[1] ,.2 - heights_interstory[0], dim_beam[1]] * 5)])\n",
    "\n",
    "\tx_travi_assex = QUOTE([dis_pillars[0]*6])\n",
    "\ty_travi_assex = QUOTE([dim_beam[0],-dis_pillars[0]] * 4)\n",
    "\ttravi_assex = INSR(PROD)([x_travi_assex,y_travi_assex,QUOTE([-dim_beam[1] ,.2 - heights_interstory[0], dim_beam[1]] * 5)])\n",
    "\t\n",
    "\treturn (base,pilastri,travi_assey,travi_assex)"
   ]
  },
  {
   "cell_type": "markdown",
   "metadata": {},
   "source": [
    "# Stutture secondarie\n",
    "\n",
    "#### Per rispecchiare il modello vedi immagine all'inizio, è stata scelta la \"costruzione\" di altre 2 strutture secondarie. Sono state create nello stesso modo della struttura 1, la sola differenza è che hanno una dimensione più piccola, ma più alta, rispetto alla struttura principale.  Per il posizionamento è stata usata la funzione T (traslate) di una quantità adatta a non sovrapporsi con la struttura principale, ma neanche distaccarsi da rendere non realistica la rappresentazione. "
   ]
  },
  {
   "cell_type": "code",
   "execution_count": null,
   "metadata": {
    "collapsed": true
   },
   "outputs": [],
   "source": [
    "\n",
    "x_base_seconda = QUOTE([px*3, - dis_pillars[1]] * 2)   \n",
    "b_seconda = INSR(PROD)([x_base_seconda,x_base_seconda,Q(.2)])\n",
    "base_seconda = STRUCT([T(1)(3.8*dy),T(2)(3.8*dy),b_seconda])\n",
    "base_terza = STRUCT([T(1)(3.85*dy),T(2)(-dy*1.65),b_seconda])\n",
    "\n",
    "x_pilastri_seconda = QUOTE([-dim_pillar[0], dim_pillar[0], -dim_pillar[1], - dis_pillars[1] ] * 2)\n",
    "p_seconda = INSR(PROD)([x_pilastri_seconda,x_pilastri_seconda,QUOTE([-.2,heights_interstory[0]]*7 )])\n",
    "pilastri_seconda = STRUCT([T(1)(3.8*dy),T(2)(3.8*dy),p_seconda])\n",
    "pilastri_terza = STRUCT([T(1)(3.9*dy),T(2)(-1.65*dy),p_seconda])\n",
    "\n",
    "x_traviy_seconda = QUOTE([dim_beam[0], -(dis_pillars[1])] *2)\n",
    "y_traviy_seconda = QUOTE([1.5*(dis_pillars[1]) -dim_beam[0]])\n",
    "t_assey_seconda = INSR(PROD)([x_traviy_seconda,y_traviy_seconda,QUOTE([-dim_beam[1] ,.2 - heights_interstory[0], dim_beam[1]] * 7)])\n",
    "travi_assey_seconda = STRUCT([T(1)(3.8*dy),T(2)(3.8*dy),t_assey_seconda])\n",
    "travi_assey_terza = STRUCT([T(1)(3.85*dy),T(2)(-1.65*dy),t_assey_seconda])\n",
    "\n",
    "x_travi_seconda = QUOTE([dis_pillars[1]*1.35])\n",
    "y_travi_seconda = QUOTE([dim_beam[0],-dis_pillars[1]] * 2)\n",
    "t_assex_seconda =  INSR(PROD)([x_travi_seconda,y_travi_seconda,QUOTE([-dim_beam[1] ,.2 - heights_interstory[0], dim_beam[1]] * 7)])\n",
    "travi_assex_seconda = STRUCT([T(1)(3.8*dy),T(2)(3.8*dy),t_assex_seconda])\n",
    "travi_assex_terza = STRUCT([T(1)(3.8*dy),T(2)(-1.65*dy),t_assex_seconda])"
   ]
  },
  {
   "cell_type": "markdown",
   "metadata": {
    "collapsed": true
   },
   "source": [
    "## Test e View Scheletro del sistema della Struttura in Cemento armato\n",
    "\n",
    "#### sono stati affrontati test, principalmente sui calcoli matematici affrontati, per non incorrere in errori di progettazione e parallelamente le visualizzazioni delle componenti dello scheletro del sistema di struttura in cemento armato.\n",
    "\n",
    "\n",
    "![img](base.png)\n",
    "![img](pilastri.png)\n",
    "![img](monoTravi.png)\n",
    "![img](travi.png)"
   ]
  },
  {
   "cell_type": "code",
   "execution_count": null,
   "metadata": {
    "collapsed": true
   },
   "outputs": [],
   "source": [
    "\n",
    "test_base = struttura(dim_beam,dim_pillar,dis_pillars,heights_interstory)\n",
    "VIEW(STRUCT([test_base[0],base_seconda,base_terza]))\n",
    "VIEW(STRUCT([test_base[0],test_base[1],base_seconda,base_terza,pilastri_terza,pilastri_seconda]))\n",
    "VIEW(STRUCT([test_base[0],test_base[1],test_base[2],base_seconda,base_terza,pilastri_terza,pilastri_seconda,travi_assey_seconda,travi_assey_terza]))\n",
    "VIEW(STRUCT([test_base[0],test_base[1],test_base[2],test_base[3],base_seconda,base_terza,pilastri_terza,pilastri_seconda,travi_assey_seconda,travi_assey_terza,travi_assex_seconda,travi_assex_terza]))"
   ]
  },
  {
   "cell_type": "markdown",
   "metadata": {},
   "source": [
    "# Struttura finale\n",
    "\n",
    "#### In questa fase è stato ragruppato tutto in un unico hpc ed è stata data una forma onsistente alle travi della struttura."
   ]
  },
  {
   "cell_type": "code",
   "execution_count": null,
   "metadata": {
    "collapsed": true
   },
   "outputs": [],
   "source": [
    "x_travi = QUOTE([bx,(bx*6) + ( dy*5)])\n",
    "y_travi = QUOTE([by,(by*4) + ( dy*3) - 0.2])\n",
    "travi = INSR(PROD)([x_travi,y_travi,QUOTE([bz ,.2 - hz, bz] * 5)])\n",
    "\n",
    "x_travi_seconda = QUOTE([bx,1.5*dy])\n",
    "y_travi_seconda = QUOTE([by,1.5*dy])\n",
    "t_seconda = INSR(PROD)([x_travi_seconda,y_travi_seconda,QUOTE([bz ,.2 - hz, bz] * 7)])\n",
    "travi_seconda = STRUCT([T(1)(3.8*dy),T(2)(3.8*dy),t_seconda])\n",
    "\n",
    "travi_terza = STRUCT([T(1)(3.85*dy),T(2)(-1.65*dy),t_seconda])\n",
    "\n",
    "VIEW(STRUCT([test_base[0],test_base[1],travi,base_seconda,base_terza,pilastri_seconda,pilastri_terza,travi_terza,travi_seconda]))"
   ]
  },
  {
   "cell_type": "markdown",
   "metadata": {
    "collapsed": false
   },
   "source": [
    "![img](struttura.png)"
   ]
  }
 ],
 "metadata": {
  "anaconda-cloud": {},
  "kernelspec": {
   "display_name": "Python [default]",
   "language": "python",
   "name": "python2"
  },
  "language_info": {
   "codemirror_mode": {
    "name": "ipython",
    "version": 2
   },
   "file_extension": ".py",
   "mimetype": "text/x-python",
   "name": "python",
   "nbconvert_exporter": "python",
   "pygments_lexer": "ipython2",
   "version": "2.7.12"
  }
 },
 "nbformat": 4,
 "nbformat_minor": 1
}
