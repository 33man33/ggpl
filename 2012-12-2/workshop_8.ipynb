{
 "cells": [
  {
   "cell_type": "markdown",
   "metadata": {
    "collapsed": true
   },
   "source": [
    "# MODEL \n",
    "\n",
    "#### The model chosen is represented in figure:\n",
    "\n",
    "\n",
    "![img](model.png)\n",
    "\n",
    "\n"
   ]
  },
  {
   "cell_type": "code",
   "execution_count": null,
   "metadata": {
    "collapsed": true
   },
   "outputs": [],
   "source": [
    "from larlib import *\n",
    "from pyplasm import *\n",
    "import csv\n",
    "\n",
    "dimp = 8\n",
    "dimf = 14\n",
    "dimb = 4\n",
    "dm= 2\n",
    "b1= 100\n",
    "b2= 50\n",
    "n = .0015\n",
    "h = 1./9\n",
    "H = INTERVALS(h)(1)"
   ]
  },
  {
   "cell_type": "markdown",
   "metadata": {
    "collapsed": true
   },
   "source": [
    "# Simple creator of structure\n",
    "\n",
    "#### The functions used:\n",
    "* *lines2lines*: lines acquisition from files;\n",
    "* *lines2lar*: points acquisition from files;\n",
    "\n",
    "#### The parameters used:\n",
    "* *file_name*: a file .lines, created fom svg files;\n",
    "\n",
    "#### The function *createStruct* returns a little model of the planimetry\n"
   ]
  },
  {
   "cell_type": "code",
   "execution_count": null,
   "metadata": {
    "collapsed": true
   },
   "outputs": [],
   "source": [
    "def createStruct(file_name):\n",
    "\tlines = lines2lines(file_name)\n",
    "\tvert,eve = lines2lar(lines)\n",
    "\tlevel = STRUCT(MKPOLS((vert,eve)))\n",
    "\tlevel = OFFSET([n,n])(level)\n",
    "\tlevel = PROD([level,H])\n",
    "\treturn level"
   ]
  },
  {
   "cell_type": "markdown",
   "metadata": {
    "collapsed": true
   },
   "source": [
    "# First test and result\n",
    "\n",
    "#### Perimeter of the structure, created by function *createStruct*\n",
    "\n",
    "![img](per.png)\n",
    "\n",
    "\n",
    "#### Walls of the structure, created by function *createStruct*\n",
    "\n",
    "\n",
    "![img](wall.png)\n",
    "\n",
    "\n",
    "\n"
   ]
  },
  {
   "cell_type": "markdown",
   "metadata": {
    "collapsed": true
   },
   "source": [
    "# Principal Functions\n",
    "\n",
    "####  *create_wall* is a function that take two parameters: \n",
    "* *f* a file,\n",
    "* *dim* a dimension of walls;\n",
    " #### and returns the walls of the structure.\n",
    "\n",
    "#### function *create_floor*  take the same parameters of function *create_wall* and rreturns the floors of the structure."
   ]
  },
  {
   "cell_type": "code",
   "execution_count": null,
   "metadata": {
    "collapsed": true
   },
   "outputs": [],
   "source": [
    "def create_wall(f,dim):\n",
    "\twith open(f, \"rb\") as file:\n",
    "\t\tbr = csv.reader(file, delimiter=\",\")\n",
    "\t\tw = []\n",
    "\t\tfor r in br:\n",
    "\t\t\tw.append(POLYLINE([[float(r[0]), float(r[1])],[float(r[2]), float(r[3])]]))\n",
    "\tw = STRUCT(w)\n",
    "\tw = OFFSET([dim,dim])(w)\n",
    "\treturn w\n",
    "\n",
    "def create_floor(f, dim):\n",
    "\ti = 0\n",
    "\tverts = []\n",
    "\tcells = []\n",
    "\tpols = None\n",
    "\twith open(f, 'rb') as file:\n",
    "        \tbr = csv.reader(file,delimiter=\",\")\n",
    "        \tfor r in br:\n",
    "            \t\tverts.append([float(r[0]), float(r[1])])\n",
    "                    j = i+1\n",
    "            \t\tverts.append([float(r[2]), float(r[3])])\n",
    "            \t\ti = i+1\n",
    "            \t\tcells.extend([j, i])\n",
    "    \ttot = OFFSET([dim, dim])(MKPOL([verts,[cells],pols]))\n",
    "\treturn tot"
   ]
  },
  {
   "cell_type": "markdown",
   "metadata": {},
   "source": [
    "# Test and result\n",
    "\n",
    "#### Here are presented the visual images from above. They are the outcome of the tests. To summarize, is shown the union of an perimeter with the walls, and difference of the perimeter with doors and windows.\n",
    "\n",
    "![img](struttura1.png)\n",
    "\n",
    "![img](struttura2.png)\n",
    "\n"
   ]
  },
  {
   "cell_type": "code",
   "execution_count": null,
   "metadata": {
    "collapsed": true
   },
   "outputs": [],
   "source": [
    "exwall = create_wall(\"lines/perimetro.lines\", dimp)\n",
    "intwall = create_wall(\"lines/muri.lines\", dimp)\n",
    "windows = create_wall(\"lines/finestre.lines\", dimf)\n",
    "doors = create_wall(\"lines/porte.lines\", dimb)\n",
    "bal = create_wall(\"lines/balc.lines\", dimb)\n",
    "\n",
    "\n",
    "floor1 = STRUCT([create_floor(\"lines/pav1.lines\", dm),create_floor(\"lines/pav2.lines\", dm),create_floor(\"lines/pav3.lines\", dm)])\n",
    "\n",
    "floor2 = STRUCT([create_floor(\"lines/pav4.lines\", dm),create_floor(\"lines/pav5.lines\", dm),create_floor(\"lines/pav6.lines\", dm), create_floor(\"lines/pav7.lines\", dm), create_floor(\"lines/pav8.lines\", dm), create_floor(\"lines/pav9.lines\", dm), create_floor(\"lines/pav10.lines\",dm)])\n",
    "\n",
    "ex = PROD([DIFF([exwall,windows]),QUOTE([b1])])\n",
    "inter = PROD([DIFF([intwall,doors]),QUOTE([b1])])\n",
    "bal = PROD([bal,QUOTE([b2])])\n",
    "\n",
    "floor1 = TEXTURE([\"11.jpg\"])(floor1)\n",
    "floor2 = TEXTURE([\"t1.jpg\"])(floor2)\n",
    "ex = TEXTURE([\"12.jpeg\"])(ex)\n",
    "inter = TEXTURE([\"12.jpeg\"])(inter)\n",
    "bal = TEXTURE([\"t.jpg\"])(bal)\n",
    "\n",
    "VIEW(STRUCT([ex,inter,bal,floor1,floor2]))"
   ]
  }
 ],
 "metadata": {
  "anaconda-cloud": {},
  "kernelspec": {
   "display_name": "Python [default]",
   "language": "python",
   "name": "python2"
  },
  "language_info": {
   "codemirror_mode": {
    "name": "ipython",
    "version": 2
   },
   "file_extension": ".py",
   "mimetype": "text/x-python",
   "name": "python",
   "nbconvert_exporter": "python",
   "pygments_lexer": "ipython2",
   "version": "2.7.12"
  }
 },
 "nbformat": 4,
 "nbformat_minor": 1
}
