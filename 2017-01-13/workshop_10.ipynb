{
 "cells": [
  {
   "cell_type": "markdown",
   "metadata": {
    "collapsed": true
   },
   "source": [
    "# Parametric building genarator\n",
    "\n",
    "#### Reference models:\n",
    "\n",
    "## first model:\n",
    "\n",
    "![img](model1.jpg)\n",
    "\n",
    "\n",
    "## second model:\n",
    "![img](model2.jpg)\n",
    "\n",
    "\n",
    "#### Amount of the required libraries, in particular:\n",
    "#### *workshop_3* to make stairs\n",
    "#### *workshop_7* to make doors and windows\n",
    "#### *workshop_8* to make the inside of the apartments\n",
    "#### *workshop_9* to make the roof\n",
    "\n",
    "#### The workshop_8 was changed in order to add the feature of windows and doors insertion.\n",
    "\n",
    "\n"
   ]
  },
  {
   "cell_type": "code",
   "execution_count": null,
   "metadata": {
    "collapsed": true
   },
   "outputs": [],
   "source": [
    "from pyplasm import *\n",
    "import csv\n",
    "import src.workshop_08 as create_walls\n",
    "import src.workshop_07 as create_door_window\n",
    "import src.workshop_03 as create_stairs\n",
    "import src.workshop_09 as create_roof"
   ]
  },
  {
   "cell_type": "markdown",
   "metadata": {},
   "source": [
    "# Builder \t\n",
    "    \n",
    "####  Usd function are: \n",
    "* *create_house*: is a function that returns a model represent the house, and takes as parameters: number of floors, .lines files, x,y,z represent the factor to scale.\n",
    "* *create_windows*: takes as parameters list of asix x and y of the window cells. This functions returns a model rappresent the windows of the house.\n",
    "* *create_doors*: takes as parameters list of asix x and y of the doors cells, and bool matrix. \n",
    "* *create_floors*: takes as parameters a list of integer reppresent the component of roof, aa angle to rotate the planes and a integer height of the roof.\n",
    "    \n",
    "    \t\n",
    "  "
   ]
  },
  {
   "cell_type": "code",
   "execution_count": null,
   "metadata": {
    "collapsed": true
   },
   "outputs": [],
   "source": [
    "windowx = [2,3,2,3,2]\n",
    "windowy = [2,3,2,3,2]\n",
    "p = 15\n",
    "t = .1\n",
    "m = 1.09\n",
    "occurrencwindowy = [[1, 1, 1, 1, 1],\n",
    "\t\t\t  [1, 0, 1, 0, 1],\n",
    "\t\t\t  [1, 1, 1, 1, 1],\n",
    "\t\t\t  [1, 0, 1, 0, 1],\n",
    "\t\t\t  [1, 1, 1, 1, 1]]\n",
    "\n",
    "doorx = [.2, .2, .05, .2, .05, .2, .3, .2, .05, .2 ,.05, .2, .2]\n",
    "doory = [.2, .2, .05, .2, .05, 1, .05, .2, .05, .2, .2]\n",
    "occurencdoory = [[1, 1, 1, 1, 1, 1, 1, 1, 1, 1, 1, 1, 1],\n",
    "\t\t\t\t[1, 0, 0, 0, 0, 0, 1, 0, 0, 0, 0, 0, 1],\n",
    "\t\t\t\t[1, 0, 1, 1, 1, 1, 1, 1, 1, 1, 1, 0, 1], \n",
    "\t\t\t\t[1, 0, 1, 0, 0, 0, 1, 0, 0, 0, 1, 0, 1],\n",
    "\t\t\t\t[1, 0, 1, 0, 1, 1, 1, 1, 1, 0, 1, 0, 1],\n",
    "\t\t\t\t[1, 0, 1, 0, 1, 0, 1, 0, 1, 0, 1, 0, 1], \n",
    "\t\t\t\t[1, 0, 1, 0, 1, 1, 1, 1, 1, 0, 1, 0, 1],\n",
    "\t\t\t\t[1, 0, 1, 0, 0, 0, 1, 0, 0, 0, 1, 0, 1],\n",
    "\t\t\t\t[1, 0, 1, 1, 1, 1, 1, 1, 1, 1, 1, 0, 1],\n",
    "\t\t\t\t[1, 0, 0, 0, 0, 0, 1, 0, 0, 0, 0, 0, 1],\n",
    "\t\t\t\t[1, 1, 1, 1, 1, 1, 1, 1, 1, 1, 1, 1, 1]]\n",
    "\n",
    "external_walls = STRUCT(create_walls.create_walls('fmme1.lines'))\n",
    "x = (p)/SIZE([1])(external_walls)[0]\n",
    "y = (p+t)/SIZE([2])(external_walls)[0]\n",
    "z = x\n",
    "\n",
    "external_walls2 = create_walls.create_walls('smme1.lines')\n",
    "externalWalls2 = STRUCT(external_walls2)\n",
    "x2 = p/SIZE([1])(externalWalls2)[0]\n",
    "y2 = p+t/SIZE([2])(externalWalls2)[0]\n",
    "z2 = x2\n",
    "\n",
    "def create_house(floornum, bases, x, y, z):\n",
    "\tdef create_windows(windowx, windowy, occurrencwindowy):\n",
    "\t\tdef create_doors(doorx, doory, occurencdoory):\t\n",
    "\t\t\tdef create_floors(v, angle, h):\t\t\n",
    "\t\t\t\tfloors = []\n",
    "\t\t\t\t#building roof model\n",
    "\t\t\t\twith open(v) as file:\n",
    "\t\t\t\t\treader = csv.reader(file, delimiter=\",\")\n",
    "\t\t\t\t\tnew_v = []\n",
    "\t\t\t\t\tfor row in reader:\n",
    "\t\t\t\t\t\tnew_v.append([float(row[0]), float(row[1])])\n",
    "\t\t\t\t\troof = T([3])([floornum*3/z])(create_roof.buildRoof(new_v, angle, h))\n",
    "\t\t\t\t\troof = S([1,2,3])([x*m, y*m, z])(roof)\n",
    "\t\t\t\t\troof = T([1,2])([-SIZE([1])(roof)[0]*(t-.05), -SIZE([2])(roof)[0]*(t-.05)])(roof)\n",
    "\t\t\t\tfor i in range(floornum):\n",
    "\t\t\t\t\tfloor_lines = [bases + '_me_'+str(i+1)+'.lines', bases + '_mi_'+str(i+1)+'.lines', bases + '_p_'+str(i+1)+'.lines', bases + '_f_'+str(i+1)+'.lines', bases + '_s_'+str(i)+'.lines', bases + '_s_'+str(i+1)+'.lines']\n",
    "\t\t\t\t\tfloor = create_walls.ggpl_building_house(floor_lines, \n",
    "\t\t\t\t\t\tcreate_door_window.window_creator(windowx,windowy,occurrencwindowy), \n",
    "\t\t\t\t\t\tcreate_door_window.door_creator(doory, doorx, occurencdoory), \n",
    "\t\t\t\t\t\tcreate_stairs, i, floornum-1)\n",
    "\t\t\t\t\tfloors.append(floor)\t\t\t\n",
    "\t\t\t\tfloors = STRUCT(floors)\n",
    "\t\t\t\treturn STRUCT([floors, roof])\n",
    "\t\t\treturn create_floors\n",
    "\t\treturn create_doors\n",
    "\treturn create_windows\n",
    "\n"
   ]
  },
  {
   "cell_type": "markdown",
   "metadata": {
    "collapsed": true
   },
   "source": [
    "# Tests an results\n",
    "\n",
    "\n",
    "### To ensure the dynamism of the function have been two different parametric data input.\n",
    "\n",
    "\n",
    "\n",
    "#### External first house\n",
    "![img](house2.png)\n",
    "\n",
    "![img](house2.1.png)\n",
    "\n",
    "#### Room first house\n",
    "![img](house2.2.png)\n",
    "\n",
    "\n",
    "#### Second house(external):\n",
    "![img](house1.png)\n",
    "\n",
    "\n",
    "#### Roof second house\n",
    "![img](house1.1.png)\n",
    "\n",
    "\n",
    "#### The staircase inside the house:\n",
    "![img](house1.2.png)\n",
    "\n",
    "\n",
    "#### Room inside second house\n",
    "![img](house1.3.png)\n",
    "\n",
    "\n",
    "\n"
   ]
  },
  {
   "cell_type": "code",
   "execution_count": null,
   "metadata": {
    "collapsed": true
   },
   "outputs": [],
   "source": []
  },
  {
   "cell_type": "code",
   "execution_count": null,
   "metadata": {
    "collapsed": true
   },
   "outputs": [],
   "source": []
  },
  {
   "cell_type": "code",
   "execution_count": null,
   "metadata": {
    "collapsed": true
   },
   "outputs": [],
   "source": []
  },
  {
   "cell_type": "code",
   "execution_count": null,
   "metadata": {
    "collapsed": true
   },
   "outputs": [],
   "source": []
  },
  {
   "cell_type": "code",
   "execution_count": null,
   "metadata": {
    "collapsed": true
   },
   "outputs": [],
   "source": []
  },
  {
   "cell_type": "code",
   "execution_count": null,
   "metadata": {
    "collapsed": true
   },
   "outputs": [],
   "source": []
  },
  {
   "cell_type": "code",
   "execution_count": null,
   "metadata": {
    "collapsed": true
   },
   "outputs": [],
   "source": []
  }
 ],
 "metadata": {
  "anaconda-cloud": {},
  "kernelspec": {
   "display_name": "Python [default]",
   "language": "python",
   "name": "python2"
  },
  "language_info": {
   "codemirror_mode": {
    "name": "ipython",
    "version": 2
   },
   "file_extension": ".py",
   "mimetype": "text/x-python",
   "name": "python",
   "nbconvert_exporter": "python",
   "pygments_lexer": "ipython2",
   "version": "2.7.12"
  }
 },
 "nbformat": 4,
 "nbformat_minor": 1
}
