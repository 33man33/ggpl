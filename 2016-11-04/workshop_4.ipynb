{
 "cells": [
  {
   "cell_type": "markdown",
   "metadata": {},
   "source": [
    "# Models and problems\n",
    "\n",
    "#### The model chosen is represented in figure:\n",
    "![img](modelroof.jpg)\n",
    "\n",
    "#### The program corpus is a function called *ggpl_builder_roof*. This function takes as parameters verts and cells, which have been appropriately instantiated at the beginning of the corpus. \n",
    "\n",
    "#### These library functions have been used:\n",
    "* *MKPOL*: mapping from triples of number sequences to polyhedral complexes;\n",
    "* *SKEL_1* and *SKEL_2*;\n",
    "* *OFFSET*;\n",
    "* *UKPOL*: inverse operation of MKPOL;\n",
    "\n",
    "\n",
    "\n"
   ]
  },
  {
   "cell_type": "code",
   "execution_count": null,
   "metadata": {
    "collapsed": true
   },
   "outputs": [],
   "source": [
    "from pyplasm import*\n",
    "\n",
    "bx = by = .6\n",
    "bz = .2\n",
    "px = py = .2\n",
    "dy = 3.4\n",
    "dy2 = 4.5\n",
    "hz = 2.8\n",
    "hz1 = 2.0\n",
    "\n",
    "dim_beam = (bx,bz)\n",
    "dim_pillar=(px,py)\n",
    "dis_pillars = [dy,dy2]\n",
    "heights_interstory = [hz,hz1]\n",
    "\n",
    "verts = [ [0,0,0],[0,5,0],[8,5,0],[8,12,0],[12,12,0],[12,0,0],[2,2.5,4.5],[10,2.5,4.5],[10,10,4.5],[10,10,0],[2,2.5,0],[10,2.5,0]]\n",
    "cells = [ [7,11],[8,12],[9,10],[10,12],[11,12],[1,7,2],[2,7,8,3],[3,8,9,4],[4,9,5], [8,6,5,9],[1,6,8,7],[1,6,3,2],[3,6,5,4]]\n",
    "\n",
    "verts2 = [[0,0,0],[0,5,0],[8,5,0],[8,12,0],[12,12,0],[12,0,0],[2,2.5,4.5],[10,2.5,4.5],[10,10,4.5],[10,10,0],[2,2.5,0],[10,2.5,0],[10,10,0], [12,-9,0],[8,-9,0],[10,-7.5,4.5], [7.5,-7.5,0], [8,0,0], [10,-7.5,0] ]\n",
    "cells2 = [ [7,11],[8,12],[9,13],[10,12],[11,12],[12,19],[1,7,2],[2,7,8,3],[3,8,9,4],[4,9,5], [8,6,5,9],[1,6,8,7], [16,8], [14,16,8,6],[14,15,16],[15,18,8,16],[8,16,15,18],[14,15,16],[16,19]]\n",
    "\n",
    "verts3 =[ [0,0,15],[0,13,15],[21,13,15],[21,0,15],[5,7,20],[5,7,20-hz*1.8], [16,7,20], [16,7,20-hz*1.8] ]\n",
    "cells3 =[ [1,4], [1,2,5], [5,6], [5,7], [3,4,7], [7,8], [6,8], [5,7],[1,4,7,5], [2,3,5,7],[1,2,3,4],[4,3,2,1] ]"
   ]
  },
  {
   "cell_type": "markdown",
   "metadata": {},
   "source": [
    "# Basic Structure\n",
    "\n",
    "#### This fuction imports a method developed in the context of a previous homework. It will be the base of one of the tests."
   ]
  },
  {
   "cell_type": "code",
   "execution_count": null,
   "metadata": {
    "collapsed": true
   },
   "outputs": [],
   "source": [
    "def struttura(dim_beam,dim_pillar,dis_pillars,heights_interstory):\n",
    "    x_base = QUOTE([px*3, - dis_pillars[0]] * 6)\n",
    "    y_base = QUOTE([py*3, - dis_pillars[0]] * 4)\n",
    "    base = INSR(PROD)([x_base,y_base,Q(.2)])\n",
    "    x_pilastri = QUOTE([-dim_pillar[0], dim_pillar[0], -dim_pillar[0], - dis_pillars[0] ] * 6)\n",
    "    y_pilastri = QUOTE([-dim_pillar[0], dim_pillar[0], -dim_pillar[0], - dis_pillars[0] ] * 4)\n",
    "    pilastri = INSR(PROD)([x_pilastri,y_pilastri,QUOTE([-.2,heights_interstory[0]]*5 )])\n",
    "    x_travi_assey = QUOTE([dim_beam[0], -(dis_pillars[0])] *6)\n",
    "    y_travi_assey = QUOTE([4*(dis_pillars[0]) -dim_beam[0]])\n",
    "    travi_assey = INSR(PROD)([x_travi_assey,y_travi_assey,QUOTE([-dim_beam[1] ,.2 - heights_interstory[0], dim_beam[1]] * 5)])\n",
    "    x_travi_assex = QUOTE([dis_pillars[0]*6])\n",
    "    y_travi_assex = QUOTE([dim_beam[0],-dis_pillars[0]] * 4)\n",
    "    travi_assex = INSR(PROD)([x_travi_assex,y_travi_assex,QUOTE([-dim_beam[1] ,.2 - heights_interstory[0], dim_beam[1]] * 5)])\n",
    "    return (base,pilastri,travi_assey,travi_assex)\n",
    "\n",
    "test_base = struttura(dim_beam,dim_pillar,dis_pillars,heights_interstory)\n",
    "x_travi = QUOTE([bx,(bx*6) + ( dy*5)])\n",
    "y_travi = QUOTE([by,(by*4) + ( dy*3) - 0.2])\n",
    "travi = INSR(PROD)([x_travi,y_travi,QUOTE([bz ,.2 - hz, bz] * 5)])"
   ]
  },
  {
   "cell_type": "raw",
   "metadata": {},
   "source": []
  },
  {
   "cell_type": "markdown",
   "metadata": {},
   "source": [
    "# Function *ggpl_roof_builder*\n",
    "\n",
    "#### This function takes as input a list of vertices and cells(output of function makePoints), previously defined through *MKPOL*. The first point that has been implemented here, is the input validation. The 1-skeleton of the hpc and UKPOL of the 2-skeleton are saved into appropriate variables. The main function generates the hpc object. To conclude, on this structure will be constructed the coverage and the final roof.\n"
   ]
  },
  {
   "cell_type": "code",
   "execution_count": null,
   "metadata": {
    "collapsed": true
   },
   "outputs": [],
   "source": [
    "def makePoints(listp):\n",
    "\n",
    "    points = {}\n",
    "    verts = listp[0]\n",
    "    cells = listp[1]\n",
    "    for c in cells:\n",
    "        for l in cell:\n",
    "            point = str(verts)[int(l)-1])\n",
    "            if(!point):\n",
    "                points[point] = []\n",
    "            points[point].append(l)\n",
    "    return points\n",
    "\n",
    "def ggpl_roof_builder(verts,cells):\n",
    "    if(verts <= 0 or cells <= 0):  return\n",
    "    ver = []\n",
    "    cel = []\n",
    "    for c in cells:\n",
    "        f=[]\n",
    "    skeleton = MKPOL([verts, cells, None])\n",
    "    roof_skeleton = OFFSET([.2,.2,.2])(SKEL_1(skeleton))\n",
    "    roof = MKPOL([verts, cells[:-2], None])\n",
    "    for v in c:\n",
    "        f.append(verts[v-1])\n",
    "        cel.append(f)\n",
    "    roof2d = UKPOL(SKEL_2(roof))\n",
    "    for v in verts:\n",
    "        if v[2]>0:\n",
    "            ver.append(v)\n",
    "        else:\n",
    "            for v2 in verts:\n",
    "                if v2[2]>0:\n",
    "                        ver.append(v2)\n",
    "    roof = OFFSET([.2,.2,.2])(roof)\n",
    "    roof = T([3])([.1])(roof)\n",
    "    roof_skeleton = COLOR(BLACK)(roof_skeleton)\n",
    "    VIEW(roof_skeleton)\n",
    "    return STRUCT([roof, roof_skeleton])\n"
   ]
  },
  {
   "cell_type": "markdown",
   "metadata": {},
   "source": [
    "# First tests \n",
    "\n",
    "#### Initial tests conducted on the skeleton of the structure. Three different use cases have been initialized: from the classic roof to a more complex model, as shown in the pictures:\n",
    "\n",
    "![img](roofs1.png)\n",
    "![img](roofs2.png)\n",
    "![img](roofs3.png)"
   ]
  },
  {
   "cell_type": "code",
   "execution_count": null,
   "metadata": {
    "collapsed": true
   },
   "outputs": [],
   "source": [
    "VIEW(ggpl_roof_builder(verts, cells))\n",
    "VIEW(ggpl_roof_builder(verts2,cells2))\n",
    "t3 = ggpl_roof_builder(verts3, cells3)\n",
    "VIEW(t3)\n",
    "VIEW(STRUCT([test_base[0],test_base[1],travi,t3]))"
   ]
  },
  {
   "cell_type": "markdown",
   "metadata": {},
   "source": [
    "# Conclusion and final test\n",
    "\n",
    "#### Here are presented the visual images from above and below. They are the outcome of the *ggpl_roof_builder* function. To summarize, is shown the union of an elementary roof with the base, imported previously.\n",
    "\n",
    "![img](roofd1.png)\n",
    "![img](roof1.png)\n",
    "\n",
    "![img](roofd2.png)\n",
    "![img](roof2.png)\n",
    "\n",
    "![img](roof3.png)"
   ]
  },
  {
   "cell_type": "code",
   "execution_count": null,
   "metadata": {
    "collapsed": true
   },
   "outputs": [],
   "source": []
  }
 ],
 "metadata": {
  "anaconda-cloud": {},
  "kernelspec": {
   "display_name": "Python [default]",
   "language": "python",
   "name": "python2"
  },
  "language_info": {
   "codemirror_mode": {
    "name": "ipython",
    "version": 2
   },
   "file_extension": ".py",
   "mimetype": "text/x-python",
   "name": "python",
   "nbconvert_exporter": "python",
   "pygments_lexer": "ipython2",
   "version": "2.7.12"
  }
 },
 "nbformat": 4,
 "nbformat_minor": 1
}
